{
 "cells": [
  {
   "cell_type": "markdown",
   "metadata": {},
   "source": [
    "The EDA project need to include the following steps, presented in their sequence:\n",
    "1. Generate descriptive statistics for the dataset.\n",
    "2. Check any records with missing values, and handle the missing data as appropriate.\n",
    "3. Build graphs visualizing the following and comment on the results:\n",
    "A) the distribution of one or more individual continuous variables\n",
    "B) the relationship of a pair of continuous variables.\n",
    "C) the relationship b/w a categorical variable and a continuous one.\n",
    "4. Display unique values of a categorical variable and their frequencies.\n",
    "5. Build a contingency table of two potentially related categorical variables. Conduct a statistical test of the independence between them and interpret the results.\n",
    "6. Retrieve one or more subset of rows based on two or more criteria and present descriptive statistics on the subset(s).\n",
    "7. Conduct a statistical test of the significance of the difference between the means of two subsets of the data and interpret the results.\n",
    "8. Create one or more tables that group the data by a certain categorical variable and display summarized information for each group (e.g. the mean or sum within the group).\n",
    "9. Implement a linear regression model and interpret its output.\n",
    "\n",
    "Note: Each step of the analysis should have a clear header and be documented with comments that: describe what the step is meant to achieve, justify the implementation choices, and interpret the results of the step. Besides, the project report should start with an introduction section motivating the project (i.e., the issues to explore and their practical implications), and should finish with a conclusion section summarizing key findings and learning."
   ]
  },
  {
   "cell_type": "code",
   "execution_count": 1,
   "metadata": {},
   "outputs": [],
   "source": [
    "import pandas as pd"
   ]
  },
  {
   "cell_type": "code",
   "execution_count": null,
   "metadata": {},
   "outputs": [],
   "source": [
    "pip install openpyxl"
   ]
  },
  {
   "cell_type": "code",
   "execution_count": 3,
   "metadata": {},
   "outputs": [],
   "source": [
    "#Read the file\n",
    "college_data = pd.read_excel(\"C:/Users/Vijay/Downloads/college(1).xlsx\")"
   ]
  },
  {
   "cell_type": "code",
   "execution_count": 4,
   "metadata": {},
   "outputs": [
    {
     "data": {
      "text/html": [
       "<div>\n",
       "<style scoped>\n",
       "    .dataframe tbody tr th:only-of-type {\n",
       "        vertical-align: middle;\n",
       "    }\n",
       "\n",
       "    .dataframe tbody tr th {\n",
       "        vertical-align: top;\n",
       "    }\n",
       "\n",
       "    .dataframe thead th {\n",
       "        text-align: right;\n",
       "    }\n",
       "</style>\n",
       "<table border=\"1\" class=\"dataframe\">\n",
       "  <thead>\n",
       "    <tr style=\"text-align: right;\">\n",
       "      <th></th>\n",
       "      <th>Institution</th>\n",
       "      <th>Private</th>\n",
       "      <th>Apps</th>\n",
       "      <th>Accept</th>\n",
       "      <th>Enroll</th>\n",
       "      <th>Students</th>\n",
       "      <th>S.F.Ratio</th>\n",
       "      <th>Expend</th>\n",
       "      <th>Grad.Rate</th>\n",
       "      <th>PhD</th>\n",
       "    </tr>\n",
       "  </thead>\n",
       "  <tbody>\n",
       "    <tr>\n",
       "      <th>0</th>\n",
       "      <td>Abilene Christian University</td>\n",
       "      <td>Yes</td>\n",
       "      <td>1660.0</td>\n",
       "      <td>1232.0</td>\n",
       "      <td>721.0</td>\n",
       "      <td>3422.0</td>\n",
       "      <td>18.1</td>\n",
       "      <td>7041.0</td>\n",
       "      <td>60.0</td>\n",
       "      <td>&gt;50</td>\n",
       "    </tr>\n",
       "    <tr>\n",
       "      <th>1</th>\n",
       "      <td>Adelphi University</td>\n",
       "      <td>Yes</td>\n",
       "      <td>2186.0</td>\n",
       "      <td>1924.0</td>\n",
       "      <td>512.0</td>\n",
       "      <td>3910.0</td>\n",
       "      <td>12.2</td>\n",
       "      <td>10527.0</td>\n",
       "      <td>56.0</td>\n",
       "      <td>&lt;50</td>\n",
       "    </tr>\n",
       "    <tr>\n",
       "      <th>2</th>\n",
       "      <td>Adrian College</td>\n",
       "      <td>Yes</td>\n",
       "      <td>1428.0</td>\n",
       "      <td>1097.0</td>\n",
       "      <td>336.0</td>\n",
       "      <td>1135.0</td>\n",
       "      <td>12.9</td>\n",
       "      <td>8735.0</td>\n",
       "      <td>54.0</td>\n",
       "      <td>&gt;50</td>\n",
       "    </tr>\n",
       "    <tr>\n",
       "      <th>3</th>\n",
       "      <td>Agnes Scott College</td>\n",
       "      <td>Yes</td>\n",
       "      <td>417.0</td>\n",
       "      <td>349.0</td>\n",
       "      <td>137.0</td>\n",
       "      <td>573.0</td>\n",
       "      <td>7.7</td>\n",
       "      <td>19016.0</td>\n",
       "      <td>59.0</td>\n",
       "      <td>&gt;50</td>\n",
       "    </tr>\n",
       "    <tr>\n",
       "      <th>4</th>\n",
       "      <td>Alaska Pacific University</td>\n",
       "      <td>Yes</td>\n",
       "      <td>193.0</td>\n",
       "      <td>146.0</td>\n",
       "      <td>55.0</td>\n",
       "      <td>1118.0</td>\n",
       "      <td>11.9</td>\n",
       "      <td>10922.0</td>\n",
       "      <td>15.0</td>\n",
       "      <td>&gt;50</td>\n",
       "    </tr>\n",
       "    <tr>\n",
       "      <th>...</th>\n",
       "      <td>...</td>\n",
       "      <td>...</td>\n",
       "      <td>...</td>\n",
       "      <td>...</td>\n",
       "      <td>...</td>\n",
       "      <td>...</td>\n",
       "      <td>...</td>\n",
       "      <td>...</td>\n",
       "      <td>...</td>\n",
       "      <td>...</td>\n",
       "    </tr>\n",
       "    <tr>\n",
       "      <th>772</th>\n",
       "      <td>Worcester State College</td>\n",
       "      <td>No</td>\n",
       "      <td>2197.0</td>\n",
       "      <td>1515.0</td>\n",
       "      <td>543.0</td>\n",
       "      <td>5118.0</td>\n",
       "      <td>21.0</td>\n",
       "      <td>4469.0</td>\n",
       "      <td>40.0</td>\n",
       "      <td>&gt;50</td>\n",
       "    </tr>\n",
       "    <tr>\n",
       "      <th>773</th>\n",
       "      <td>Xavier University</td>\n",
       "      <td>Yes</td>\n",
       "      <td>1959.0</td>\n",
       "      <td>1805.0</td>\n",
       "      <td>695.0</td>\n",
       "      <td>3956.0</td>\n",
       "      <td>13.3</td>\n",
       "      <td>9189.0</td>\n",
       "      <td>83.0</td>\n",
       "      <td>&gt;50</td>\n",
       "    </tr>\n",
       "    <tr>\n",
       "      <th>774</th>\n",
       "      <td>Xavier University of Louisiana</td>\n",
       "      <td>Yes</td>\n",
       "      <td>2097.0</td>\n",
       "      <td>1915.0</td>\n",
       "      <td>695.0</td>\n",
       "      <td>2959.0</td>\n",
       "      <td>14.4</td>\n",
       "      <td>8323.0</td>\n",
       "      <td>49.0</td>\n",
       "      <td>&gt;50</td>\n",
       "    </tr>\n",
       "    <tr>\n",
       "      <th>775</th>\n",
       "      <td>Yale University</td>\n",
       "      <td>Yes</td>\n",
       "      <td>10705.0</td>\n",
       "      <td>2453.0</td>\n",
       "      <td>1317.0</td>\n",
       "      <td>5300.0</td>\n",
       "      <td>5.8</td>\n",
       "      <td>40386.0</td>\n",
       "      <td>99.0</td>\n",
       "      <td>&gt;50</td>\n",
       "    </tr>\n",
       "    <tr>\n",
       "      <th>776</th>\n",
       "      <td>York College of Pennsylvania</td>\n",
       "      <td>Yes</td>\n",
       "      <td>2989.0</td>\n",
       "      <td>1855.0</td>\n",
       "      <td>691.0</td>\n",
       "      <td>4714.0</td>\n",
       "      <td>18.1</td>\n",
       "      <td>4509.0</td>\n",
       "      <td>99.0</td>\n",
       "      <td>&gt;50</td>\n",
       "    </tr>\n",
       "  </tbody>\n",
       "</table>\n",
       "<p>777 rows × 10 columns</p>\n",
       "</div>"
      ],
      "text/plain": [
       "                        Institution Private     Apps  Accept  Enroll  \\\n",
       "0      Abilene Christian University     Yes   1660.0  1232.0   721.0   \n",
       "1                Adelphi University     Yes   2186.0  1924.0   512.0   \n",
       "2                    Adrian College     Yes   1428.0  1097.0   336.0   \n",
       "3               Agnes Scott College     Yes    417.0   349.0   137.0   \n",
       "4         Alaska Pacific University     Yes    193.0   146.0    55.0   \n",
       "..                              ...     ...      ...     ...     ...   \n",
       "772         Worcester State College      No   2197.0  1515.0   543.0   \n",
       "773               Xavier University     Yes   1959.0  1805.0   695.0   \n",
       "774  Xavier University of Louisiana     Yes   2097.0  1915.0   695.0   \n",
       "775                 Yale University     Yes  10705.0  2453.0  1317.0   \n",
       "776    York College of Pennsylvania     Yes   2989.0  1855.0   691.0   \n",
       "\n",
       "     Students  S.F.Ratio   Expend  Grad.Rate  PhD  \n",
       "0      3422.0       18.1   7041.0       60.0  >50  \n",
       "1      3910.0       12.2  10527.0       56.0  <50  \n",
       "2      1135.0       12.9   8735.0       54.0  >50  \n",
       "3       573.0        7.7  19016.0       59.0  >50  \n",
       "4      1118.0       11.9  10922.0       15.0  >50  \n",
       "..        ...        ...      ...        ...  ...  \n",
       "772    5118.0       21.0   4469.0       40.0  >50  \n",
       "773    3956.0       13.3   9189.0       83.0  >50  \n",
       "774    2959.0       14.4   8323.0       49.0  >50  \n",
       "775    5300.0        5.8  40386.0       99.0  >50  \n",
       "776    4714.0       18.1   4509.0       99.0  >50  \n",
       "\n",
       "[777 rows x 10 columns]"
      ]
     },
     "execution_count": 4,
     "metadata": {},
     "output_type": "execute_result"
    }
   ],
   "source": [
    "#see the entries\n",
    "college_data"
   ]
  },
  {
   "cell_type": "markdown",
   "metadata": {},
   "source": [
    "1. Generate descriptive statistics for the dataset."
   ]
  },
  {
   "cell_type": "code",
   "execution_count": 5,
   "metadata": {},
   "outputs": [
    {
     "data": {
      "text/plain": [
       "(777, 10)"
      ]
     },
     "execution_count": 5,
     "metadata": {},
     "output_type": "execute_result"
    }
   ],
   "source": [
    "college_data.shape"
   ]
  },
  {
   "cell_type": "markdown",
   "metadata": {},
   "source": [
    "Total Number of rows = 777 and columns = 10"
   ]
  },
  {
   "cell_type": "code",
   "execution_count": 6,
   "metadata": {},
   "outputs": [
    {
     "data": {
      "text/html": [
       "<div>\n",
       "<style scoped>\n",
       "    .dataframe tbody tr th:only-of-type {\n",
       "        vertical-align: middle;\n",
       "    }\n",
       "\n",
       "    .dataframe tbody tr th {\n",
       "        vertical-align: top;\n",
       "    }\n",
       "\n",
       "    .dataframe thead th {\n",
       "        text-align: right;\n",
       "    }\n",
       "</style>\n",
       "<table border=\"1\" class=\"dataframe\">\n",
       "  <thead>\n",
       "    <tr style=\"text-align: right;\">\n",
       "      <th></th>\n",
       "      <th>Institution</th>\n",
       "      <th>Private</th>\n",
       "      <th>Apps</th>\n",
       "      <th>Accept</th>\n",
       "      <th>Enroll</th>\n",
       "      <th>Students</th>\n",
       "      <th>S.F.Ratio</th>\n",
       "      <th>Expend</th>\n",
       "      <th>Grad.Rate</th>\n",
       "      <th>PhD</th>\n",
       "    </tr>\n",
       "  </thead>\n",
       "  <tbody>\n",
       "    <tr>\n",
       "      <th>count</th>\n",
       "      <td>777</td>\n",
       "      <td>765</td>\n",
       "      <td>775.000000</td>\n",
       "      <td>774.000000</td>\n",
       "      <td>772.000000</td>\n",
       "      <td>776.000000</td>\n",
       "      <td>774.000000</td>\n",
       "      <td>775.000000</td>\n",
       "      <td>774.000000</td>\n",
       "      <td>772</td>\n",
       "    </tr>\n",
       "    <tr>\n",
       "      <th>unique</th>\n",
       "      <td>777</td>\n",
       "      <td>2</td>\n",
       "      <td>NaN</td>\n",
       "      <td>NaN</td>\n",
       "      <td>NaN</td>\n",
       "      <td>NaN</td>\n",
       "      <td>NaN</td>\n",
       "      <td>NaN</td>\n",
       "      <td>NaN</td>\n",
       "      <td>2</td>\n",
       "    </tr>\n",
       "    <tr>\n",
       "      <th>top</th>\n",
       "      <td>Abilene Christian University</td>\n",
       "      <td>Yes</td>\n",
       "      <td>NaN</td>\n",
       "      <td>NaN</td>\n",
       "      <td>NaN</td>\n",
       "      <td>NaN</td>\n",
       "      <td>NaN</td>\n",
       "      <td>NaN</td>\n",
       "      <td>NaN</td>\n",
       "      <td>&gt;50</td>\n",
       "    </tr>\n",
       "    <tr>\n",
       "      <th>freq</th>\n",
       "      <td>1</td>\n",
       "      <td>554</td>\n",
       "      <td>NaN</td>\n",
       "      <td>NaN</td>\n",
       "      <td>NaN</td>\n",
       "      <td>NaN</td>\n",
       "      <td>NaN</td>\n",
       "      <td>NaN</td>\n",
       "      <td>NaN</td>\n",
       "      <td>692</td>\n",
       "    </tr>\n",
       "    <tr>\n",
       "      <th>mean</th>\n",
       "      <td>NaN</td>\n",
       "      <td>NaN</td>\n",
       "      <td>3004.927742</td>\n",
       "      <td>2014.164083</td>\n",
       "      <td>781.781088</td>\n",
       "      <td>4550.208763</td>\n",
       "      <td>14.090698</td>\n",
       "      <td>9642.797419</td>\n",
       "      <td>65.449612</td>\n",
       "      <td>NaN</td>\n",
       "    </tr>\n",
       "    <tr>\n",
       "      <th>std</th>\n",
       "      <td>NaN</td>\n",
       "      <td>NaN</td>\n",
       "      <td>3874.120093</td>\n",
       "      <td>2447.981568</td>\n",
       "      <td>931.034168</td>\n",
       "      <td>5858.384381</td>\n",
       "      <td>3.965024</td>\n",
       "      <td>5210.996785</td>\n",
       "      <td>17.194855</td>\n",
       "      <td>NaN</td>\n",
       "    </tr>\n",
       "    <tr>\n",
       "      <th>min</th>\n",
       "      <td>NaN</td>\n",
       "      <td>NaN</td>\n",
       "      <td>81.000000</td>\n",
       "      <td>72.000000</td>\n",
       "      <td>35.000000</td>\n",
       "      <td>3.000000</td>\n",
       "      <td>2.500000</td>\n",
       "      <td>3186.000000</td>\n",
       "      <td>10.000000</td>\n",
       "      <td>NaN</td>\n",
       "    </tr>\n",
       "    <tr>\n",
       "      <th>25%</th>\n",
       "      <td>NaN</td>\n",
       "      <td>NaN</td>\n",
       "      <td>778.000000</td>\n",
       "      <td>601.750000</td>\n",
       "      <td>242.750000</td>\n",
       "      <td>1225.500000</td>\n",
       "      <td>11.500000</td>\n",
       "      <td>6747.500000</td>\n",
       "      <td>53.000000</td>\n",
       "      <td>NaN</td>\n",
       "    </tr>\n",
       "    <tr>\n",
       "      <th>50%</th>\n",
       "      <td>NaN</td>\n",
       "      <td>NaN</td>\n",
       "      <td>1558.000000</td>\n",
       "      <td>1109.500000</td>\n",
       "      <td>435.500000</td>\n",
       "      <td>2095.000000</td>\n",
       "      <td>13.600000</td>\n",
       "      <td>8367.000000</td>\n",
       "      <td>65.000000</td>\n",
       "      <td>NaN</td>\n",
       "    </tr>\n",
       "    <tr>\n",
       "      <th>75%</th>\n",
       "      <td>NaN</td>\n",
       "      <td>NaN</td>\n",
       "      <td>3635.000000</td>\n",
       "      <td>2418.500000</td>\n",
       "      <td>902.250000</td>\n",
       "      <td>5121.000000</td>\n",
       "      <td>16.500000</td>\n",
       "      <td>10816.000000</td>\n",
       "      <td>78.000000</td>\n",
       "      <td>NaN</td>\n",
       "    </tr>\n",
       "    <tr>\n",
       "      <th>max</th>\n",
       "      <td>NaN</td>\n",
       "      <td>NaN</td>\n",
       "      <td>48094.000000</td>\n",
       "      <td>26330.000000</td>\n",
       "      <td>6392.000000</td>\n",
       "      <td>38338.000000</td>\n",
       "      <td>39.800000</td>\n",
       "      <td>56233.000000</td>\n",
       "      <td>118.000000</td>\n",
       "      <td>NaN</td>\n",
       "    </tr>\n",
       "  </tbody>\n",
       "</table>\n",
       "</div>"
      ],
      "text/plain": [
       "                         Institution Private          Apps        Accept  \\\n",
       "count                            777     765    775.000000    774.000000   \n",
       "unique                           777       2           NaN           NaN   \n",
       "top     Abilene Christian University     Yes           NaN           NaN   \n",
       "freq                               1     554           NaN           NaN   \n",
       "mean                             NaN     NaN   3004.927742   2014.164083   \n",
       "std                              NaN     NaN   3874.120093   2447.981568   \n",
       "min                              NaN     NaN     81.000000     72.000000   \n",
       "25%                              NaN     NaN    778.000000    601.750000   \n",
       "50%                              NaN     NaN   1558.000000   1109.500000   \n",
       "75%                              NaN     NaN   3635.000000   2418.500000   \n",
       "max                              NaN     NaN  48094.000000  26330.000000   \n",
       "\n",
       "             Enroll      Students   S.F.Ratio        Expend   Grad.Rate  PhD  \n",
       "count    772.000000    776.000000  774.000000    775.000000  774.000000  772  \n",
       "unique          NaN           NaN         NaN           NaN         NaN    2  \n",
       "top             NaN           NaN         NaN           NaN         NaN  >50  \n",
       "freq            NaN           NaN         NaN           NaN         NaN  692  \n",
       "mean     781.781088   4550.208763   14.090698   9642.797419   65.449612  NaN  \n",
       "std      931.034168   5858.384381    3.965024   5210.996785   17.194855  NaN  \n",
       "min       35.000000      3.000000    2.500000   3186.000000   10.000000  NaN  \n",
       "25%      242.750000   1225.500000   11.500000   6747.500000   53.000000  NaN  \n",
       "50%      435.500000   2095.000000   13.600000   8367.000000   65.000000  NaN  \n",
       "75%      902.250000   5121.000000   16.500000  10816.000000   78.000000  NaN  \n",
       "max     6392.000000  38338.000000   39.800000  56233.000000  118.000000  NaN  "
      ]
     },
     "execution_count": 6,
     "metadata": {},
     "output_type": "execute_result"
    }
   ],
   "source": [
    "college_data.describe(include=\"all\")"
   ]
  },
  {
   "cell_type": "markdown",
   "metadata": {},
   "source": [
    "Here, We can analyse from the table that there are Majority of Private Universities, and the PhD Faculty are greater than 50 in most universities.\n",
    "We check the averages(mean) and deduce that the average graduation rate is 65.44. The average number of students accepted in a university is 2014."
   ]
  },
  {
   "cell_type": "markdown",
   "metadata": {},
   "source": [
    "2. Check any records with missing values, and handle the missing data as appropriate.\n",
    "\n",
    "Checking the sum of missing values in each column"
   ]
  },
  {
   "cell_type": "code",
   "execution_count": 7,
   "metadata": {},
   "outputs": [
    {
     "data": {
      "text/plain": [
       "Institution     0\n",
       "Private        12\n",
       "Apps            2\n",
       "Accept          3\n",
       "Enroll          5\n",
       "Students        1\n",
       "S.F.Ratio       3\n",
       "Expend          2\n",
       "Grad.Rate       3\n",
       "PhD             5\n",
       "dtype: int64"
      ]
     },
     "execution_count": 7,
     "metadata": {},
     "output_type": "execute_result"
    }
   ],
   "source": [
    "college_data.isnull().sum()"
   ]
  },
  {
   "cell_type": "markdown",
   "metadata": {},
   "source": [
    "We can observe the total number of missing records in each column."
   ]
  },
  {
   "cell_type": "code",
   "execution_count": 8,
   "metadata": {},
   "outputs": [],
   "source": [
    "college_data['Private'].fillna(\"Yes\", inplace = True)\n",
    "college_data['PhD'].fillna(\">50\", inplace = True)"
   ]
  },
  {
   "cell_type": "code",
   "execution_count": 9,
   "metadata": {},
   "outputs": [
    {
     "data": {
      "text/html": [
       "<div>\n",
       "<style scoped>\n",
       "    .dataframe tbody tr th:only-of-type {\n",
       "        vertical-align: middle;\n",
       "    }\n",
       "\n",
       "    .dataframe tbody tr th {\n",
       "        vertical-align: top;\n",
       "    }\n",
       "\n",
       "    .dataframe thead th {\n",
       "        text-align: right;\n",
       "    }\n",
       "</style>\n",
       "<table border=\"1\" class=\"dataframe\">\n",
       "  <thead>\n",
       "    <tr style=\"text-align: right;\">\n",
       "      <th></th>\n",
       "      <th>Institution</th>\n",
       "      <th>Private</th>\n",
       "      <th>Apps</th>\n",
       "      <th>Accept</th>\n",
       "      <th>Enroll</th>\n",
       "      <th>Students</th>\n",
       "      <th>S.F.Ratio</th>\n",
       "      <th>Expend</th>\n",
       "      <th>Grad.Rate</th>\n",
       "      <th>PhD</th>\n",
       "    </tr>\n",
       "  </thead>\n",
       "  <tbody>\n",
       "    <tr>\n",
       "      <th>0</th>\n",
       "      <td>Abilene Christian University</td>\n",
       "      <td>Yes</td>\n",
       "      <td>1660.0</td>\n",
       "      <td>1232.0</td>\n",
       "      <td>721.0</td>\n",
       "      <td>3422.0</td>\n",
       "      <td>18.1</td>\n",
       "      <td>7041.0</td>\n",
       "      <td>60.0</td>\n",
       "      <td>&gt;50</td>\n",
       "    </tr>\n",
       "    <tr>\n",
       "      <th>1</th>\n",
       "      <td>Adelphi University</td>\n",
       "      <td>Yes</td>\n",
       "      <td>2186.0</td>\n",
       "      <td>1924.0</td>\n",
       "      <td>512.0</td>\n",
       "      <td>3910.0</td>\n",
       "      <td>12.2</td>\n",
       "      <td>10527.0</td>\n",
       "      <td>56.0</td>\n",
       "      <td>&lt;50</td>\n",
       "    </tr>\n",
       "    <tr>\n",
       "      <th>2</th>\n",
       "      <td>Adrian College</td>\n",
       "      <td>Yes</td>\n",
       "      <td>1428.0</td>\n",
       "      <td>1097.0</td>\n",
       "      <td>336.0</td>\n",
       "      <td>1135.0</td>\n",
       "      <td>12.9</td>\n",
       "      <td>8735.0</td>\n",
       "      <td>54.0</td>\n",
       "      <td>&gt;50</td>\n",
       "    </tr>\n",
       "    <tr>\n",
       "      <th>3</th>\n",
       "      <td>Agnes Scott College</td>\n",
       "      <td>Yes</td>\n",
       "      <td>417.0</td>\n",
       "      <td>349.0</td>\n",
       "      <td>137.0</td>\n",
       "      <td>573.0</td>\n",
       "      <td>7.7</td>\n",
       "      <td>19016.0</td>\n",
       "      <td>59.0</td>\n",
       "      <td>&gt;50</td>\n",
       "    </tr>\n",
       "    <tr>\n",
       "      <th>4</th>\n",
       "      <td>Alaska Pacific University</td>\n",
       "      <td>Yes</td>\n",
       "      <td>193.0</td>\n",
       "      <td>146.0</td>\n",
       "      <td>55.0</td>\n",
       "      <td>1118.0</td>\n",
       "      <td>11.9</td>\n",
       "      <td>10922.0</td>\n",
       "      <td>15.0</td>\n",
       "      <td>&gt;50</td>\n",
       "    </tr>\n",
       "    <tr>\n",
       "      <th>...</th>\n",
       "      <td>...</td>\n",
       "      <td>...</td>\n",
       "      <td>...</td>\n",
       "      <td>...</td>\n",
       "      <td>...</td>\n",
       "      <td>...</td>\n",
       "      <td>...</td>\n",
       "      <td>...</td>\n",
       "      <td>...</td>\n",
       "      <td>...</td>\n",
       "    </tr>\n",
       "    <tr>\n",
       "      <th>772</th>\n",
       "      <td>Worcester State College</td>\n",
       "      <td>No</td>\n",
       "      <td>2197.0</td>\n",
       "      <td>1515.0</td>\n",
       "      <td>543.0</td>\n",
       "      <td>5118.0</td>\n",
       "      <td>21.0</td>\n",
       "      <td>4469.0</td>\n",
       "      <td>40.0</td>\n",
       "      <td>&gt;50</td>\n",
       "    </tr>\n",
       "    <tr>\n",
       "      <th>773</th>\n",
       "      <td>Xavier University</td>\n",
       "      <td>Yes</td>\n",
       "      <td>1959.0</td>\n",
       "      <td>1805.0</td>\n",
       "      <td>695.0</td>\n",
       "      <td>3956.0</td>\n",
       "      <td>13.3</td>\n",
       "      <td>9189.0</td>\n",
       "      <td>83.0</td>\n",
       "      <td>&gt;50</td>\n",
       "    </tr>\n",
       "    <tr>\n",
       "      <th>774</th>\n",
       "      <td>Xavier University of Louisiana</td>\n",
       "      <td>Yes</td>\n",
       "      <td>2097.0</td>\n",
       "      <td>1915.0</td>\n",
       "      <td>695.0</td>\n",
       "      <td>2959.0</td>\n",
       "      <td>14.4</td>\n",
       "      <td>8323.0</td>\n",
       "      <td>49.0</td>\n",
       "      <td>&gt;50</td>\n",
       "    </tr>\n",
       "    <tr>\n",
       "      <th>775</th>\n",
       "      <td>Yale University</td>\n",
       "      <td>Yes</td>\n",
       "      <td>10705.0</td>\n",
       "      <td>2453.0</td>\n",
       "      <td>1317.0</td>\n",
       "      <td>5300.0</td>\n",
       "      <td>5.8</td>\n",
       "      <td>40386.0</td>\n",
       "      <td>99.0</td>\n",
       "      <td>&gt;50</td>\n",
       "    </tr>\n",
       "    <tr>\n",
       "      <th>776</th>\n",
       "      <td>York College of Pennsylvania</td>\n",
       "      <td>Yes</td>\n",
       "      <td>2989.0</td>\n",
       "      <td>1855.0</td>\n",
       "      <td>691.0</td>\n",
       "      <td>4714.0</td>\n",
       "      <td>18.1</td>\n",
       "      <td>4509.0</td>\n",
       "      <td>99.0</td>\n",
       "      <td>&gt;50</td>\n",
       "    </tr>\n",
       "  </tbody>\n",
       "</table>\n",
       "<p>777 rows × 10 columns</p>\n",
       "</div>"
      ],
      "text/plain": [
       "                        Institution Private     Apps  Accept  Enroll  \\\n",
       "0      Abilene Christian University     Yes   1660.0  1232.0   721.0   \n",
       "1                Adelphi University     Yes   2186.0  1924.0   512.0   \n",
       "2                    Adrian College     Yes   1428.0  1097.0   336.0   \n",
       "3               Agnes Scott College     Yes    417.0   349.0   137.0   \n",
       "4         Alaska Pacific University     Yes    193.0   146.0    55.0   \n",
       "..                              ...     ...      ...     ...     ...   \n",
       "772         Worcester State College      No   2197.0  1515.0   543.0   \n",
       "773               Xavier University     Yes   1959.0  1805.0   695.0   \n",
       "774  Xavier University of Louisiana     Yes   2097.0  1915.0   695.0   \n",
       "775                 Yale University     Yes  10705.0  2453.0  1317.0   \n",
       "776    York College of Pennsylvania     Yes   2989.0  1855.0   691.0   \n",
       "\n",
       "     Students  S.F.Ratio   Expend  Grad.Rate  PhD  \n",
       "0      3422.0       18.1   7041.0       60.0  >50  \n",
       "1      3910.0       12.2  10527.0       56.0  <50  \n",
       "2      1135.0       12.9   8735.0       54.0  >50  \n",
       "3       573.0        7.7  19016.0       59.0  >50  \n",
       "4      1118.0       11.9  10922.0       15.0  >50  \n",
       "..        ...        ...      ...        ...  ...  \n",
       "772    5118.0       21.0   4469.0       40.0  >50  \n",
       "773    3956.0       13.3   9189.0       83.0  >50  \n",
       "774    2959.0       14.4   8323.0       49.0  >50  \n",
       "775    5300.0        5.8  40386.0       99.0  >50  \n",
       "776    4714.0       18.1   4509.0       99.0  >50  \n",
       "\n",
       "[777 rows x 10 columns]"
      ]
     },
     "execution_count": 9,
     "metadata": {},
     "output_type": "execute_result"
    }
   ],
   "source": [
    "#checking the college data\n",
    "college_data"
   ]
  },
  {
   "cell_type": "code",
   "execution_count": 10,
   "metadata": {},
   "outputs": [],
   "source": [
    "#Replace the missing records with the mean of column when its a numerical-non continuous variable\n",
    "#Round off the mean to have a better understanding as decimals put no values in these fields\n",
    "college_data['Apps'].fillna(round(college_data['Apps'].mean()),inplace = True)\n",
    "college_data['Accept'].fillna(round(college_data['Accept'].mean()),inplace = True)\n",
    "college_data['Enroll'].fillna(round(college_data['Enroll'].mean()),inplace = True)\n",
    "college_data['Students'].fillna(round(college_data['Students'].mean()),inplace = True)"
   ]
  },
  {
   "cell_type": "code",
   "execution_count": 11,
   "metadata": {},
   "outputs": [],
   "source": [
    "#Replace missing records of conrinous variables with the means of the columns\n",
    "college_data['Grad.Rate'].fillna(college_data['Grad.Rate'].mean(), inplace = True)\n",
    "college_data['Expend'].fillna(college_data['Expend'].mean(), inplace = True)\n",
    "college_data['S.F.Ratio'].fillna(college_data['S.F.Ratio'].mean(), inplace = True)"
   ]
  },
  {
   "cell_type": "code",
   "execution_count": 12,
   "metadata": {},
   "outputs": [
    {
     "data": {
      "text/html": [
       "<div>\n",
       "<style scoped>\n",
       "    .dataframe tbody tr th:only-of-type {\n",
       "        vertical-align: middle;\n",
       "    }\n",
       "\n",
       "    .dataframe tbody tr th {\n",
       "        vertical-align: top;\n",
       "    }\n",
       "\n",
       "    .dataframe thead th {\n",
       "        text-align: right;\n",
       "    }\n",
       "</style>\n",
       "<table border=\"1\" class=\"dataframe\">\n",
       "  <thead>\n",
       "    <tr style=\"text-align: right;\">\n",
       "      <th></th>\n",
       "      <th>Institution</th>\n",
       "      <th>Private</th>\n",
       "      <th>Apps</th>\n",
       "      <th>Accept</th>\n",
       "      <th>Enroll</th>\n",
       "      <th>Students</th>\n",
       "      <th>S.F.Ratio</th>\n",
       "      <th>Expend</th>\n",
       "      <th>Grad.Rate</th>\n",
       "      <th>PhD</th>\n",
       "    </tr>\n",
       "  </thead>\n",
       "  <tbody>\n",
       "    <tr>\n",
       "      <th>0</th>\n",
       "      <td>Abilene Christian University</td>\n",
       "      <td>Yes</td>\n",
       "      <td>1660.0</td>\n",
       "      <td>1232.0</td>\n",
       "      <td>721.0</td>\n",
       "      <td>3422.0</td>\n",
       "      <td>18.1</td>\n",
       "      <td>7041.0</td>\n",
       "      <td>60.0</td>\n",
       "      <td>&gt;50</td>\n",
       "    </tr>\n",
       "    <tr>\n",
       "      <th>1</th>\n",
       "      <td>Adelphi University</td>\n",
       "      <td>Yes</td>\n",
       "      <td>2186.0</td>\n",
       "      <td>1924.0</td>\n",
       "      <td>512.0</td>\n",
       "      <td>3910.0</td>\n",
       "      <td>12.2</td>\n",
       "      <td>10527.0</td>\n",
       "      <td>56.0</td>\n",
       "      <td>&lt;50</td>\n",
       "    </tr>\n",
       "    <tr>\n",
       "      <th>2</th>\n",
       "      <td>Adrian College</td>\n",
       "      <td>Yes</td>\n",
       "      <td>1428.0</td>\n",
       "      <td>1097.0</td>\n",
       "      <td>336.0</td>\n",
       "      <td>1135.0</td>\n",
       "      <td>12.9</td>\n",
       "      <td>8735.0</td>\n",
       "      <td>54.0</td>\n",
       "      <td>&gt;50</td>\n",
       "    </tr>\n",
       "    <tr>\n",
       "      <th>3</th>\n",
       "      <td>Agnes Scott College</td>\n",
       "      <td>Yes</td>\n",
       "      <td>417.0</td>\n",
       "      <td>349.0</td>\n",
       "      <td>137.0</td>\n",
       "      <td>573.0</td>\n",
       "      <td>7.7</td>\n",
       "      <td>19016.0</td>\n",
       "      <td>59.0</td>\n",
       "      <td>&gt;50</td>\n",
       "    </tr>\n",
       "    <tr>\n",
       "      <th>4</th>\n",
       "      <td>Alaska Pacific University</td>\n",
       "      <td>Yes</td>\n",
       "      <td>193.0</td>\n",
       "      <td>146.0</td>\n",
       "      <td>55.0</td>\n",
       "      <td>1118.0</td>\n",
       "      <td>11.9</td>\n",
       "      <td>10922.0</td>\n",
       "      <td>15.0</td>\n",
       "      <td>&gt;50</td>\n",
       "    </tr>\n",
       "    <tr>\n",
       "      <th>...</th>\n",
       "      <td>...</td>\n",
       "      <td>...</td>\n",
       "      <td>...</td>\n",
       "      <td>...</td>\n",
       "      <td>...</td>\n",
       "      <td>...</td>\n",
       "      <td>...</td>\n",
       "      <td>...</td>\n",
       "      <td>...</td>\n",
       "      <td>...</td>\n",
       "    </tr>\n",
       "    <tr>\n",
       "      <th>772</th>\n",
       "      <td>Worcester State College</td>\n",
       "      <td>No</td>\n",
       "      <td>2197.0</td>\n",
       "      <td>1515.0</td>\n",
       "      <td>543.0</td>\n",
       "      <td>5118.0</td>\n",
       "      <td>21.0</td>\n",
       "      <td>4469.0</td>\n",
       "      <td>40.0</td>\n",
       "      <td>&gt;50</td>\n",
       "    </tr>\n",
       "    <tr>\n",
       "      <th>773</th>\n",
       "      <td>Xavier University</td>\n",
       "      <td>Yes</td>\n",
       "      <td>1959.0</td>\n",
       "      <td>1805.0</td>\n",
       "      <td>695.0</td>\n",
       "      <td>3956.0</td>\n",
       "      <td>13.3</td>\n",
       "      <td>9189.0</td>\n",
       "      <td>83.0</td>\n",
       "      <td>&gt;50</td>\n",
       "    </tr>\n",
       "    <tr>\n",
       "      <th>774</th>\n",
       "      <td>Xavier University of Louisiana</td>\n",
       "      <td>Yes</td>\n",
       "      <td>2097.0</td>\n",
       "      <td>1915.0</td>\n",
       "      <td>695.0</td>\n",
       "      <td>2959.0</td>\n",
       "      <td>14.4</td>\n",
       "      <td>8323.0</td>\n",
       "      <td>49.0</td>\n",
       "      <td>&gt;50</td>\n",
       "    </tr>\n",
       "    <tr>\n",
       "      <th>775</th>\n",
       "      <td>Yale University</td>\n",
       "      <td>Yes</td>\n",
       "      <td>10705.0</td>\n",
       "      <td>2453.0</td>\n",
       "      <td>1317.0</td>\n",
       "      <td>5300.0</td>\n",
       "      <td>5.8</td>\n",
       "      <td>40386.0</td>\n",
       "      <td>99.0</td>\n",
       "      <td>&gt;50</td>\n",
       "    </tr>\n",
       "    <tr>\n",
       "      <th>776</th>\n",
       "      <td>York College of Pennsylvania</td>\n",
       "      <td>Yes</td>\n",
       "      <td>2989.0</td>\n",
       "      <td>1855.0</td>\n",
       "      <td>691.0</td>\n",
       "      <td>4714.0</td>\n",
       "      <td>18.1</td>\n",
       "      <td>4509.0</td>\n",
       "      <td>99.0</td>\n",
       "      <td>&gt;50</td>\n",
       "    </tr>\n",
       "  </tbody>\n",
       "</table>\n",
       "<p>777 rows × 10 columns</p>\n",
       "</div>"
      ],
      "text/plain": [
       "                        Institution Private     Apps  Accept  Enroll  \\\n",
       "0      Abilene Christian University     Yes   1660.0  1232.0   721.0   \n",
       "1                Adelphi University     Yes   2186.0  1924.0   512.0   \n",
       "2                    Adrian College     Yes   1428.0  1097.0   336.0   \n",
       "3               Agnes Scott College     Yes    417.0   349.0   137.0   \n",
       "4         Alaska Pacific University     Yes    193.0   146.0    55.0   \n",
       "..                              ...     ...      ...     ...     ...   \n",
       "772         Worcester State College      No   2197.0  1515.0   543.0   \n",
       "773               Xavier University     Yes   1959.0  1805.0   695.0   \n",
       "774  Xavier University of Louisiana     Yes   2097.0  1915.0   695.0   \n",
       "775                 Yale University     Yes  10705.0  2453.0  1317.0   \n",
       "776    York College of Pennsylvania     Yes   2989.0  1855.0   691.0   \n",
       "\n",
       "     Students  S.F.Ratio   Expend  Grad.Rate  PhD  \n",
       "0      3422.0       18.1   7041.0       60.0  >50  \n",
       "1      3910.0       12.2  10527.0       56.0  <50  \n",
       "2      1135.0       12.9   8735.0       54.0  >50  \n",
       "3       573.0        7.7  19016.0       59.0  >50  \n",
       "4      1118.0       11.9  10922.0       15.0  >50  \n",
       "..        ...        ...      ...        ...  ...  \n",
       "772    5118.0       21.0   4469.0       40.0  >50  \n",
       "773    3956.0       13.3   9189.0       83.0  >50  \n",
       "774    2959.0       14.4   8323.0       49.0  >50  \n",
       "775    5300.0        5.8  40386.0       99.0  >50  \n",
       "776    4714.0       18.1   4509.0       99.0  >50  \n",
       "\n",
       "[777 rows x 10 columns]"
      ]
     },
     "execution_count": 12,
     "metadata": {},
     "output_type": "execute_result"
    }
   ],
   "source": [
    "#The data is now clean with no missing records left and is kept in a new variable\n",
    "dataframe = college_data\n",
    "dataframe"
   ]
  },
  {
   "cell_type": "code",
   "execution_count": 13,
   "metadata": {},
   "outputs": [
    {
     "data": {
      "text/html": [
       "<div>\n",
       "<style scoped>\n",
       "    .dataframe tbody tr th:only-of-type {\n",
       "        vertical-align: middle;\n",
       "    }\n",
       "\n",
       "    .dataframe tbody tr th {\n",
       "        vertical-align: top;\n",
       "    }\n",
       "\n",
       "    .dataframe thead th {\n",
       "        text-align: right;\n",
       "    }\n",
       "</style>\n",
       "<table border=\"1\" class=\"dataframe\">\n",
       "  <thead>\n",
       "    <tr style=\"text-align: right;\">\n",
       "      <th></th>\n",
       "      <th>Institution</th>\n",
       "      <th>Private</th>\n",
       "      <th>Apps</th>\n",
       "      <th>Accept</th>\n",
       "      <th>Enroll</th>\n",
       "      <th>Students</th>\n",
       "      <th>S.F.Ratio</th>\n",
       "      <th>Expend</th>\n",
       "      <th>Grad.Rate</th>\n",
       "      <th>PhD</th>\n",
       "    </tr>\n",
       "  </thead>\n",
       "  <tbody>\n",
       "    <tr>\n",
       "      <th>count</th>\n",
       "      <td>777</td>\n",
       "      <td>777</td>\n",
       "      <td>777.000000</td>\n",
       "      <td>777.000000</td>\n",
       "      <td>777.000000</td>\n",
       "      <td>777.000000</td>\n",
       "      <td>777.000000</td>\n",
       "      <td>777.000000</td>\n",
       "      <td>777.000000</td>\n",
       "      <td>777</td>\n",
       "    </tr>\n",
       "    <tr>\n",
       "      <th>unique</th>\n",
       "      <td>777</td>\n",
       "      <td>2</td>\n",
       "      <td>NaN</td>\n",
       "      <td>NaN</td>\n",
       "      <td>NaN</td>\n",
       "      <td>NaN</td>\n",
       "      <td>NaN</td>\n",
       "      <td>NaN</td>\n",
       "      <td>NaN</td>\n",
       "      <td>2</td>\n",
       "    </tr>\n",
       "    <tr>\n",
       "      <th>top</th>\n",
       "      <td>Abilene Christian University</td>\n",
       "      <td>Yes</td>\n",
       "      <td>NaN</td>\n",
       "      <td>NaN</td>\n",
       "      <td>NaN</td>\n",
       "      <td>NaN</td>\n",
       "      <td>NaN</td>\n",
       "      <td>NaN</td>\n",
       "      <td>NaN</td>\n",
       "      <td>&gt;50</td>\n",
       "    </tr>\n",
       "    <tr>\n",
       "      <th>freq</th>\n",
       "      <td>1</td>\n",
       "      <td>566</td>\n",
       "      <td>NaN</td>\n",
       "      <td>NaN</td>\n",
       "      <td>NaN</td>\n",
       "      <td>NaN</td>\n",
       "      <td>NaN</td>\n",
       "      <td>NaN</td>\n",
       "      <td>NaN</td>\n",
       "      <td>697</td>\n",
       "    </tr>\n",
       "    <tr>\n",
       "      <th>mean</th>\n",
       "      <td>NaN</td>\n",
       "      <td>NaN</td>\n",
       "      <td>3004.927928</td>\n",
       "      <td>2014.163449</td>\n",
       "      <td>781.782497</td>\n",
       "      <td>4550.208494</td>\n",
       "      <td>14.090698</td>\n",
       "      <td>9642.797419</td>\n",
       "      <td>65.449612</td>\n",
       "      <td>NaN</td>\n",
       "    </tr>\n",
       "    <tr>\n",
       "      <th>std</th>\n",
       "      <td>NaN</td>\n",
       "      <td>NaN</td>\n",
       "      <td>3869.124449</td>\n",
       "      <td>2443.245063</td>\n",
       "      <td>928.029855</td>\n",
       "      <td>5854.608432</td>\n",
       "      <td>3.957352</td>\n",
       "      <td>5204.277250</td>\n",
       "      <td>17.161586</td>\n",
       "      <td>NaN</td>\n",
       "    </tr>\n",
       "    <tr>\n",
       "      <th>min</th>\n",
       "      <td>NaN</td>\n",
       "      <td>NaN</td>\n",
       "      <td>81.000000</td>\n",
       "      <td>72.000000</td>\n",
       "      <td>35.000000</td>\n",
       "      <td>3.000000</td>\n",
       "      <td>2.500000</td>\n",
       "      <td>3186.000000</td>\n",
       "      <td>10.000000</td>\n",
       "      <td>NaN</td>\n",
       "    </tr>\n",
       "    <tr>\n",
       "      <th>25%</th>\n",
       "      <td>NaN</td>\n",
       "      <td>NaN</td>\n",
       "      <td>780.000000</td>\n",
       "      <td>604.000000</td>\n",
       "      <td>243.000000</td>\n",
       "      <td>1226.000000</td>\n",
       "      <td>11.500000</td>\n",
       "      <td>6751.000000</td>\n",
       "      <td>53.000000</td>\n",
       "      <td>NaN</td>\n",
       "    </tr>\n",
       "    <tr>\n",
       "      <th>50%</th>\n",
       "      <td>NaN</td>\n",
       "      <td>NaN</td>\n",
       "      <td>1561.000000</td>\n",
       "      <td>1110.000000</td>\n",
       "      <td>438.000000</td>\n",
       "      <td>2096.000000</td>\n",
       "      <td>13.600000</td>\n",
       "      <td>8377.000000</td>\n",
       "      <td>65.000000</td>\n",
       "      <td>NaN</td>\n",
       "    </tr>\n",
       "    <tr>\n",
       "      <th>75%</th>\n",
       "      <td>NaN</td>\n",
       "      <td>NaN</td>\n",
       "      <td>3624.000000</td>\n",
       "      <td>2402.000000</td>\n",
       "      <td>891.000000</td>\n",
       "      <td>5118.000000</td>\n",
       "      <td>16.500000</td>\n",
       "      <td>10813.000000</td>\n",
       "      <td>78.000000</td>\n",
       "      <td>NaN</td>\n",
       "    </tr>\n",
       "    <tr>\n",
       "      <th>max</th>\n",
       "      <td>NaN</td>\n",
       "      <td>NaN</td>\n",
       "      <td>48094.000000</td>\n",
       "      <td>26330.000000</td>\n",
       "      <td>6392.000000</td>\n",
       "      <td>38338.000000</td>\n",
       "      <td>39.800000</td>\n",
       "      <td>56233.000000</td>\n",
       "      <td>118.000000</td>\n",
       "      <td>NaN</td>\n",
       "    </tr>\n",
       "  </tbody>\n",
       "</table>\n",
       "</div>"
      ],
      "text/plain": [
       "                         Institution Private          Apps        Accept  \\\n",
       "count                            777     777    777.000000    777.000000   \n",
       "unique                           777       2           NaN           NaN   \n",
       "top     Abilene Christian University     Yes           NaN           NaN   \n",
       "freq                               1     566           NaN           NaN   \n",
       "mean                             NaN     NaN   3004.927928   2014.163449   \n",
       "std                              NaN     NaN   3869.124449   2443.245063   \n",
       "min                              NaN     NaN     81.000000     72.000000   \n",
       "25%                              NaN     NaN    780.000000    604.000000   \n",
       "50%                              NaN     NaN   1561.000000   1110.000000   \n",
       "75%                              NaN     NaN   3624.000000   2402.000000   \n",
       "max                              NaN     NaN  48094.000000  26330.000000   \n",
       "\n",
       "             Enroll      Students   S.F.Ratio        Expend   Grad.Rate  PhD  \n",
       "count    777.000000    777.000000  777.000000    777.000000  777.000000  777  \n",
       "unique          NaN           NaN         NaN           NaN         NaN    2  \n",
       "top             NaN           NaN         NaN           NaN         NaN  >50  \n",
       "freq            NaN           NaN         NaN           NaN         NaN  697  \n",
       "mean     781.782497   4550.208494   14.090698   9642.797419   65.449612  NaN  \n",
       "std      928.029855   5854.608432    3.957352   5204.277250   17.161586  NaN  \n",
       "min       35.000000      3.000000    2.500000   3186.000000   10.000000  NaN  \n",
       "25%      243.000000   1226.000000   11.500000   6751.000000   53.000000  NaN  \n",
       "50%      438.000000   2096.000000   13.600000   8377.000000   65.000000  NaN  \n",
       "75%      891.000000   5118.000000   16.500000  10813.000000   78.000000  NaN  \n",
       "max     6392.000000  38338.000000   39.800000  56233.000000  118.000000  NaN  "
      ]
     },
     "execution_count": 13,
     "metadata": {},
     "output_type": "execute_result"
    }
   ],
   "source": [
    "#Check the statistics again to see if all the missin records are sorted\n",
    "dataframe.describe(include='all') "
   ]
  },
  {
   "cell_type": "markdown",
   "metadata": {},
   "source": [
    "3. Build graphs visualizing the following and comment on the results:\n",
    "\n",
    "\n",
    "A) the distribution of one or more individual continuous variables"
   ]
  },
  {
   "cell_type": "code",
   "execution_count": null,
   "metadata": {},
   "outputs": [],
   "source": [
    "pip install matplotlib"
   ]
  },
  {
   "cell_type": "code",
   "execution_count": 15,
   "metadata": {},
   "outputs": [],
   "source": [
    "import matplotlib.pyplot as plt"
   ]
  },
  {
   "cell_type": "code",
   "execution_count": 16,
   "metadata": {},
   "outputs": [
    {
     "data": {
      "text/plain": [
       "<AxesSubplot: >"
      ]
     },
     "execution_count": 16,
     "metadata": {},
     "output_type": "execute_result"
    },
    {
     "data": {
      "image/png": "[encoded data removed]",
      "text/plain": [
       "<Figure size 640x480 with 1 Axes>"
      ]
     },
     "metadata": {},
     "output_type": "display_data"
    }
   ],
   "source": [
    "#Use of histogram for continous variable\n",
    "sf_ratio = dataframe['S.F.Ratio'].hist(bins = 8)\n",
    "sf_ratio"
   ]
  },
  {
   "cell_type": "markdown",
   "metadata": {},
   "source": [
    "Here, The Histogram is normally distributed."
   ]
  },
  {
   "cell_type": "code",
   "execution_count": 17,
   "metadata": {},
   "outputs": [
    {
     "data": {
      "text/plain": [
       "<AxesSubplot: >"
      ]
     },
     "execution_count": 17,
     "metadata": {},
     "output_type": "execute_result"
    },
    {
     "data": {
      "image/png": "[encoded data removed]",
      "text/plain": [
       "<Figure size 640x480 with 1 Axes>"
      ]
     },
     "metadata": {},
     "output_type": "display_data"
    }
   ],
   "source": [
    "expend = dataframe['Expend'].hist(bins = 8)\n",
    "expend"
   ]
  },
  {
   "cell_type": "markdown",
   "metadata": {},
   "source": [
    "Here, The graph is right skewed."
   ]
  },
  {
   "cell_type": "code",
   "execution_count": 18,
   "metadata": {},
   "outputs": [
    {
     "data": {
      "text/plain": [
       "<AxesSubplot: >"
      ]
     },
     "execution_count": 18,
     "metadata": {},
     "output_type": "execute_result"
    },
    {
     "data": {
      "image/png": "[encoded data removed]",
      "text/plain": [
       "<Figure size 640x480 with 1 Axes>"
      ]
     },
     "metadata": {},
     "output_type": "display_data"
    }
   ],
   "source": [
    "graduation_rate= dataframe['Grad.Rate'].hist(bins =6)\n",
    "graduation_rate"
   ]
  },
  {
   "cell_type": "markdown",
   "metadata": {},
   "source": [
    "Here, The Histogram is normally distributed"
   ]
  },
  {
   "cell_type": "markdown",
   "metadata": {},
   "source": [
    "B) Relationship of a pair of continuous variables."
   ]
  },
  {
   "cell_type": "code",
   "execution_count": 19,
   "metadata": {},
   "outputs": [
    {
     "data": {
      "text/plain": [
       "<AxesSubplot: xlabel='S.F.Ratio', ylabel='Grad.Rate'>"
      ]
     },
     "execution_count": 19,
     "metadata": {},
     "output_type": "execute_result"
    },
    {
     "data": {
      "image/png": "[encoded data removed]",
      "text/plain": [
       "<Figure size 1800x1000 with 1 Axes>"
      ]
     },
     "metadata": {},
     "output_type": "display_data"
    }
   ],
   "source": [
    "#We use scatterplot for pair of continuous variables\n",
    "relationship_1 = dataframe.plot.scatter(x=\"S.F.Ratio\",y=\"Grad.Rate\", figsize=(18, 10))\n",
    "relationship_1"
   ]
  },
  {
   "cell_type": "code",
   "execution_count": null,
   "metadata": {},
   "outputs": [],
   "source": [
    "pip install seaborn"
   ]
  },
  {
   "cell_type": "code",
   "execution_count": 21,
   "metadata": {},
   "outputs": [],
   "source": [
    "import seaborn"
   ]
  },
  {
   "cell_type": "code",
   "execution_count": 22,
   "metadata": {},
   "outputs": [
    {
     "data": {
      "image/png": "[encoded data removed]",
      "text/plain": [
       "<Figure size 1800x1200 with 1 Axes>"
      ]
     },
     "metadata": {},
     "output_type": "display_data"
    }
   ],
   "source": [
    "relationship_2 = seaborn.regplot(x=dataframe['S.F.Ratio'],\n",
    "                y=dataframe['Grad.Rate'], ci=95).figure.set_size_inches(18, 12)\n",
    "relationship_2"
   ]
  },
  {
   "cell_type": "markdown",
   "metadata": {},
   "source": [
    "C) The relationship b/w a categorical variable and a continuous one."
   ]
  },
  {
   "cell_type": "code",
   "execution_count": 23,
   "metadata": {},
   "outputs": [
    {
     "data": {
      "text/plain": [
       "<AxesSubplot: title={'center': 'Grad.Rate'}, ylabel='Private'>"
      ]
     },
     "execution_count": 23,
     "metadata": {},
     "output_type": "execute_result"
    },
    {
     "data": {
      "image/png": "[encoded data removed]",
      "text/plain": [
       "<Figure size 1600x200 with 1 Axes>"
      ]
     },
     "metadata": {},
     "output_type": "display_data"
    }
   ],
   "source": [
    "relationship_3 =dataframe.boxplot(column = 'Grad.Rate',by = 'Private', figsize=(16,2),vert=False )\n",
    "relationship_3"
   ]
  },
  {
   "cell_type": "markdown",
   "metadata": {},
   "source": [
    "Here, In the above boxplot there are few outliers in the data that can be ignored . We can see the both Grad Rate and Private Universities is normally distributed."
   ]
  },
  {
   "cell_type": "code",
   "execution_count": 24,
   "metadata": {},
   "outputs": [
    {
     "data": {
      "image/png": "[encoded data removed]",
      "text/plain": [
       "<Figure size 1600x200 with 1 Axes>"
      ]
     },
     "metadata": {},
     "output_type": "display_data"
    }
   ],
   "source": [
    "relationship_4 = seaborn.boxenplot(data = dataframe, x = 'S.F.Ratio', y='PhD', orient='h').figure.set_size_inches(16, 2)\n",
    "relationship_4"
   ]
  },
  {
   "cell_type": "markdown",
   "metadata": {},
   "source": [
    "4. Display unique values of a categorical variable and their frequencies."
   ]
  },
  {
   "cell_type": "code",
   "execution_count": 25,
   "metadata": {},
   "outputs": [
    {
     "data": {
      "text/plain": [
       ">50    697\n",
       "<50     80\n",
       "Name: PhD, dtype: int64"
      ]
     },
     "execution_count": 25,
     "metadata": {},
     "output_type": "execute_result"
    }
   ],
   "source": [
    "PhD_count = dataframe['PhD'].value_counts()\n",
    "PhD_count"
   ]
  },
  {
   "cell_type": "code",
   "execution_count": 26,
   "metadata": {},
   "outputs": [
    {
     "data": {
      "text/plain": [
       "PhD\n",
       "<50     80\n",
       ">50    697\n",
       "dtype: int64"
      ]
     },
     "execution_count": 26,
     "metadata": {},
     "output_type": "execute_result"
    }
   ],
   "source": [
    "dataframe.groupby(['PhD']).size()"
   ]
  },
  {
   "cell_type": "markdown",
   "metadata": {},
   "source": [
    "Here, There are 80 values in th PhD column which are leass than 50 and 697 values in the column that are greater than 50. So faculty with PhD qualifications are always more than 50 in most Universities."
   ]
  },
  {
   "cell_type": "markdown",
   "metadata": {},
   "source": [
    "5. Build a contingency table of two potentially related categorical variables. Conduct a statistical test of the independence between them and interpret the results."
   ]
  },
  {
   "cell_type": "code",
   "execution_count": null,
   "metadata": {},
   "outputs": [],
   "source": [
    "pip install scipy"
   ]
  },
  {
   "cell_type": "code",
   "execution_count": 28,
   "metadata": {},
   "outputs": [],
   "source": [
    "from scipy import stats"
   ]
  },
  {
   "cell_type": "code",
   "execution_count": 29,
   "metadata": {},
   "outputs": [
    {
     "data": {
      "text/html": [
       "<div>\n",
       "<style scoped>\n",
       "    .dataframe tbody tr th:only-of-type {\n",
       "        vertical-align: middle;\n",
       "    }\n",
       "\n",
       "    .dataframe tbody tr th {\n",
       "        vertical-align: top;\n",
       "    }\n",
       "\n",
       "    .dataframe thead th {\n",
       "        text-align: right;\n",
       "    }\n",
       "</style>\n",
       "<table border=\"1\" class=\"dataframe\">\n",
       "  <thead>\n",
       "    <tr style=\"text-align: right;\">\n",
       "      <th>PhD</th>\n",
       "      <th>&lt;50</th>\n",
       "      <th>&gt;50</th>\n",
       "    </tr>\n",
       "    <tr>\n",
       "      <th>Private</th>\n",
       "      <th></th>\n",
       "      <th></th>\n",
       "    </tr>\n",
       "  </thead>\n",
       "  <tbody>\n",
       "    <tr>\n",
       "      <th>No</th>\n",
       "      <td>12</td>\n",
       "      <td>199</td>\n",
       "    </tr>\n",
       "    <tr>\n",
       "      <th>Yes</th>\n",
       "      <td>68</td>\n",
       "      <td>498</td>\n",
       "    </tr>\n",
       "  </tbody>\n",
       "</table>\n",
       "</div>"
      ],
      "text/plain": [
       "PhD      <50  >50\n",
       "Private          \n",
       "No        12  199\n",
       "Yes       68  498"
      ]
     },
     "execution_count": 29,
     "metadata": {},
     "output_type": "execute_result"
    }
   ],
   "source": [
    "cont_table = pd.crosstab(dataframe['Private'], dataframe['PhD'])\n",
    "cont_table"
   ]
  },
  {
   "cell_type": "code",
   "execution_count": 30,
   "metadata": {},
   "outputs": [
    {
     "data": {
      "text/plain": [
       "<AxesSubplot: xlabel='Private'>"
      ]
     },
     "execution_count": 30,
     "metadata": {},
     "output_type": "execute_result"
    },
    {
     "data": {
      "image/png": "[encoded data removed]",
      "text/plain": [
       "<Figure size 640x480 with 1 Axes>"
      ]
     },
     "metadata": {},
     "output_type": "display_data"
    }
   ],
   "source": [
    "cont_table.plot(kind=\"bar\", stacked=True, rot=0)"
   ]
  },
  {
   "cell_type": "markdown",
   "metadata": {},
   "source": [
    "Here, From the Bar chart we can conclude that private Universities generally have faculty more than 50 with PhD qualifications."
   ]
  },
  {
   "cell_type": "code",
   "execution_count": 31,
   "metadata": {},
   "outputs": [
    {
     "name": "stdout",
     "output_type": "stream",
     "text": [
      "p-value: 0.014352590870496078\n"
     ]
    }
   ],
   "source": [
    "chi2, p_val, dof, expected = stats.chi2_contingency(cont_table)\n",
    "\n",
    "#print the p_value\n",
    "print(f\"p-value: {p_val}\")"
   ]
  },
  {
   "cell_type": "markdown",
   "metadata": {},
   "source": [
    "Here, p-value is less that 0.05. Therefor, we reject Null Hypothesis"
   ]
  },
  {
   "cell_type": "markdown",
   "metadata": {},
   "source": [
    "6. Retrieve one or more subset of rows based on two or more criteria and present descriptive statistics on the subset(s)."
   ]
  },
  {
   "cell_type": "code",
   "execution_count": 32,
   "metadata": {},
   "outputs": [
    {
     "data": {
      "text/html": [
       "<div>\n",
       "<style scoped>\n",
       "    .dataframe tbody tr th:only-of-type {\n",
       "        vertical-align: middle;\n",
       "    }\n",
       "\n",
       "    .dataframe tbody tr th {\n",
       "        vertical-align: top;\n",
       "    }\n",
       "\n",
       "    .dataframe thead th {\n",
       "        text-align: right;\n",
       "    }\n",
       "</style>\n",
       "<table border=\"1\" class=\"dataframe\">\n",
       "  <thead>\n",
       "    <tr style=\"text-align: right;\">\n",
       "      <th></th>\n",
       "      <th>Institution</th>\n",
       "      <th>Private</th>\n",
       "      <th>Apps</th>\n",
       "      <th>Accept</th>\n",
       "      <th>Enroll</th>\n",
       "      <th>Students</th>\n",
       "      <th>S.F.Ratio</th>\n",
       "      <th>Expend</th>\n",
       "      <th>Grad.Rate</th>\n",
       "      <th>PhD</th>\n",
       "    </tr>\n",
       "  </thead>\n",
       "  <tbody>\n",
       "    <tr>\n",
       "      <th>1</th>\n",
       "      <td>Adelphi University</td>\n",
       "      <td>Yes</td>\n",
       "      <td>2186.0</td>\n",
       "      <td>1924.0</td>\n",
       "      <td>512.0</td>\n",
       "      <td>3910.0</td>\n",
       "      <td>12.2</td>\n",
       "      <td>10527.0</td>\n",
       "      <td>56.0</td>\n",
       "      <td>&lt;50</td>\n",
       "    </tr>\n",
       "    <tr>\n",
       "      <th>7</th>\n",
       "      <td>Albion College</td>\n",
       "      <td>Yes</td>\n",
       "      <td>1899.0</td>\n",
       "      <td>1720.0</td>\n",
       "      <td>782.0</td>\n",
       "      <td>1626.0</td>\n",
       "      <td>13.7</td>\n",
       "      <td>11487.0</td>\n",
       "      <td>73.0</td>\n",
       "      <td>&gt;50</td>\n",
       "    </tr>\n",
       "    <tr>\n",
       "      <th>10</th>\n",
       "      <td>Alfred University</td>\n",
       "      <td>Yes</td>\n",
       "      <td>1732.0</td>\n",
       "      <td>1425.0</td>\n",
       "      <td>472.0</td>\n",
       "      <td>1940.0</td>\n",
       "      <td>11.3</td>\n",
       "      <td>10932.0</td>\n",
       "      <td>73.0</td>\n",
       "      <td>&gt;50</td>\n",
       "    </tr>\n",
       "    <tr>\n",
       "      <th>23</th>\n",
       "      <td>Arizona State University Main campus</td>\n",
       "      <td>No</td>\n",
       "      <td>12809.0</td>\n",
       "      <td>10308.0</td>\n",
       "      <td>3761.0</td>\n",
       "      <td>30178.0</td>\n",
       "      <td>18.9</td>\n",
       "      <td>4602.0</td>\n",
       "      <td>48.0</td>\n",
       "      <td>&gt;50</td>\n",
       "    </tr>\n",
       "    <tr>\n",
       "      <th>25</th>\n",
       "      <td>Arkansas Tech University</td>\n",
       "      <td>No</td>\n",
       "      <td>1734.0</td>\n",
       "      <td>1729.0</td>\n",
       "      <td>951.0</td>\n",
       "      <td>4541.0</td>\n",
       "      <td>19.6</td>\n",
       "      <td>4739.0</td>\n",
       "      <td>48.0</td>\n",
       "      <td>&gt;50</td>\n",
       "    </tr>\n",
       "    <tr>\n",
       "      <th>...</th>\n",
       "      <td>...</td>\n",
       "      <td>...</td>\n",
       "      <td>...</td>\n",
       "      <td>...</td>\n",
       "      <td>...</td>\n",
       "      <td>...</td>\n",
       "      <td>...</td>\n",
       "      <td>...</td>\n",
       "      <td>...</td>\n",
       "      <td>...</td>\n",
       "    </tr>\n",
       "    <tr>\n",
       "      <th>760</th>\n",
       "      <td>Willamette University</td>\n",
       "      <td>Yes</td>\n",
       "      <td>1658.0</td>\n",
       "      <td>1327.0</td>\n",
       "      <td>395.0</td>\n",
       "      <td>1754.0</td>\n",
       "      <td>13.3</td>\n",
       "      <td>10779.0</td>\n",
       "      <td>68.0</td>\n",
       "      <td>&gt;50</td>\n",
       "    </tr>\n",
       "    <tr>\n",
       "      <th>769</th>\n",
       "      <td>Wittenberg University</td>\n",
       "      <td>Yes</td>\n",
       "      <td>1979.0</td>\n",
       "      <td>1739.0</td>\n",
       "      <td>575.0</td>\n",
       "      <td>2124.0</td>\n",
       "      <td>12.8</td>\n",
       "      <td>10414.0</td>\n",
       "      <td>78.0</td>\n",
       "      <td>&gt;50</td>\n",
       "    </tr>\n",
       "    <tr>\n",
       "      <th>771</th>\n",
       "      <td>Worcester Polytechnic Institute</td>\n",
       "      <td>Yes</td>\n",
       "      <td>2768.0</td>\n",
       "      <td>2314.0</td>\n",
       "      <td>682.0</td>\n",
       "      <td>2888.0</td>\n",
       "      <td>15.2</td>\n",
       "      <td>10774.0</td>\n",
       "      <td>82.0</td>\n",
       "      <td>&gt;50</td>\n",
       "    </tr>\n",
       "    <tr>\n",
       "      <th>773</th>\n",
       "      <td>Xavier University</td>\n",
       "      <td>Yes</td>\n",
       "      <td>1959.0</td>\n",
       "      <td>1805.0</td>\n",
       "      <td>695.0</td>\n",
       "      <td>3956.0</td>\n",
       "      <td>13.3</td>\n",
       "      <td>9189.0</td>\n",
       "      <td>83.0</td>\n",
       "      <td>&gt;50</td>\n",
       "    </tr>\n",
       "    <tr>\n",
       "      <th>774</th>\n",
       "      <td>Xavier University of Louisiana</td>\n",
       "      <td>Yes</td>\n",
       "      <td>2097.0</td>\n",
       "      <td>1915.0</td>\n",
       "      <td>695.0</td>\n",
       "      <td>2959.0</td>\n",
       "      <td>14.4</td>\n",
       "      <td>8323.0</td>\n",
       "      <td>49.0</td>\n",
       "      <td>&gt;50</td>\n",
       "    </tr>\n",
       "  </tbody>\n",
       "</table>\n",
       "<p>123 rows × 10 columns</p>\n",
       "</div>"
      ],
      "text/plain": [
       "                              Institution Private     Apps   Accept  Enroll  \\\n",
       "1                      Adelphi University     Yes   2186.0   1924.0   512.0   \n",
       "7                          Albion College     Yes   1899.0   1720.0   782.0   \n",
       "10                      Alfred University     Yes   1732.0   1425.0   472.0   \n",
       "23   Arizona State University Main campus      No  12809.0  10308.0  3761.0   \n",
       "25               Arkansas Tech University      No   1734.0   1729.0   951.0   \n",
       "..                                    ...     ...      ...      ...     ...   \n",
       "760                 Willamette University     Yes   1658.0   1327.0   395.0   \n",
       "769                 Wittenberg University     Yes   1979.0   1739.0   575.0   \n",
       "771       Worcester Polytechnic Institute     Yes   2768.0   2314.0   682.0   \n",
       "773                     Xavier University     Yes   1959.0   1805.0   695.0   \n",
       "774        Xavier University of Louisiana     Yes   2097.0   1915.0   695.0   \n",
       "\n",
       "     Students  S.F.Ratio   Expend  Grad.Rate  PhD  \n",
       "1      3910.0       12.2  10527.0       56.0  <50  \n",
       "7      1626.0       13.7  11487.0       73.0  >50  \n",
       "10     1940.0       11.3  10932.0       73.0  >50  \n",
       "23    30178.0       18.9   4602.0       48.0  >50  \n",
       "25     4541.0       19.6   4739.0       48.0  >50  \n",
       "..        ...        ...      ...        ...  ...  \n",
       "760    1754.0       13.3  10779.0       68.0  >50  \n",
       "769    2124.0       12.8  10414.0       78.0  >50  \n",
       "771    2888.0       15.2  10774.0       82.0  >50  \n",
       "773    3956.0       13.3   9189.0       83.0  >50  \n",
       "774    2959.0       14.4   8323.0       49.0  >50  \n",
       "\n",
       "[123 rows x 10 columns]"
      ]
     },
     "execution_count": 32,
     "metadata": {},
     "output_type": "execute_result"
    }
   ],
   "source": [
    "#subset with Applications > 1400 and acceptance > 80% of all Applicarions\n",
    "df_S1 = dataframe[(dataframe['Apps']>=1400) & (dataframe['Accept']>0.8 * dataframe['Apps'])]\n",
    "df_S1"
   ]
  },
  {
   "cell_type": "code",
   "execution_count": 33,
   "metadata": {},
   "outputs": [
    {
     "data": {
      "text/html": [
       "<div>\n",
       "<style scoped>\n",
       "    .dataframe tbody tr th:only-of-type {\n",
       "        vertical-align: middle;\n",
       "    }\n",
       "\n",
       "    .dataframe tbody tr th {\n",
       "        vertical-align: top;\n",
       "    }\n",
       "\n",
       "    .dataframe thead th {\n",
       "        text-align: right;\n",
       "    }\n",
       "</style>\n",
       "<table border=\"1\" class=\"dataframe\">\n",
       "  <thead>\n",
       "    <tr style=\"text-align: right;\">\n",
       "      <th></th>\n",
       "      <th>Institution</th>\n",
       "      <th>Private</th>\n",
       "      <th>Apps</th>\n",
       "      <th>Accept</th>\n",
       "      <th>Enroll</th>\n",
       "      <th>Students</th>\n",
       "      <th>S.F.Ratio</th>\n",
       "      <th>Expend</th>\n",
       "      <th>Grad.Rate</th>\n",
       "      <th>PhD</th>\n",
       "    </tr>\n",
       "  </thead>\n",
       "  <tbody>\n",
       "    <tr>\n",
       "      <th>14</th>\n",
       "      <td>Alverno College</td>\n",
       "      <td>Yes</td>\n",
       "      <td>494.0</td>\n",
       "      <td>313.0</td>\n",
       "      <td>157.0</td>\n",
       "      <td>2552.0</td>\n",
       "      <td>11.1</td>\n",
       "      <td>8127.0</td>\n",
       "      <td>55.000000</td>\n",
       "      <td>&lt;50</td>\n",
       "    </tr>\n",
       "    <tr>\n",
       "      <th>17</th>\n",
       "      <td>Anderson University</td>\n",
       "      <td>Yes</td>\n",
       "      <td>1216.0</td>\n",
       "      <td>908.0</td>\n",
       "      <td>423.0</td>\n",
       "      <td>2100.0</td>\n",
       "      <td>12.1</td>\n",
       "      <td>7994.0</td>\n",
       "      <td>65.449612</td>\n",
       "      <td>&lt;50</td>\n",
       "    </tr>\n",
       "    <tr>\n",
       "      <th>26</th>\n",
       "      <td>Assumption College</td>\n",
       "      <td>Yes</td>\n",
       "      <td>2135.0</td>\n",
       "      <td>1700.0</td>\n",
       "      <td>491.0</td>\n",
       "      <td>2397.0</td>\n",
       "      <td>13.8</td>\n",
       "      <td>7100.0</td>\n",
       "      <td>88.000000</td>\n",
       "      <td>&gt;50</td>\n",
       "    </tr>\n",
       "    <tr>\n",
       "      <th>28</th>\n",
       "      <td>Augsburg College</td>\n",
       "      <td>Yes</td>\n",
       "      <td>662.0</td>\n",
       "      <td>513.0</td>\n",
       "      <td>257.0</td>\n",
       "      <td>2800.0</td>\n",
       "      <td>12.8</td>\n",
       "      <td>7836.0</td>\n",
       "      <td>58.000000</td>\n",
       "      <td>&gt;50</td>\n",
       "    </tr>\n",
       "    <tr>\n",
       "      <th>38</th>\n",
       "      <td>Barry University</td>\n",
       "      <td>Yes</td>\n",
       "      <td>990.0</td>\n",
       "      <td>784.0</td>\n",
       "      <td>279.0</td>\n",
       "      <td>4955.0</td>\n",
       "      <td>12.6</td>\n",
       "      <td>9084.0</td>\n",
       "      <td>72.000000</td>\n",
       "      <td>&gt;50</td>\n",
       "    </tr>\n",
       "    <tr>\n",
       "      <th>...</th>\n",
       "      <td>...</td>\n",
       "      <td>...</td>\n",
       "      <td>...</td>\n",
       "      <td>...</td>\n",
       "      <td>...</td>\n",
       "      <td>...</td>\n",
       "      <td>...</td>\n",
       "      <td>...</td>\n",
       "      <td>...</td>\n",
       "      <td>...</td>\n",
       "    </tr>\n",
       "    <tr>\n",
       "      <th>732</th>\n",
       "      <td>Webster University</td>\n",
       "      <td>Yes</td>\n",
       "      <td>665.0</td>\n",
       "      <td>462.0</td>\n",
       "      <td>226.0</td>\n",
       "      <td>3289.0</td>\n",
       "      <td>20.6</td>\n",
       "      <td>6951.0</td>\n",
       "      <td>48.000000</td>\n",
       "      <td>&gt;50</td>\n",
       "    </tr>\n",
       "    <tr>\n",
       "      <th>735</th>\n",
       "      <td>Wentworth Institute of Technology</td>\n",
       "      <td>Yes</td>\n",
       "      <td>1480.0</td>\n",
       "      <td>1257.0</td>\n",
       "      <td>452.0</td>\n",
       "      <td>3533.0</td>\n",
       "      <td>15.4</td>\n",
       "      <td>17858.0</td>\n",
       "      <td>64.000000</td>\n",
       "      <td>&lt;50</td>\n",
       "    </tr>\n",
       "    <tr>\n",
       "      <th>739</th>\n",
       "      <td>West Liberty State College</td>\n",
       "      <td>No</td>\n",
       "      <td>1164.0</td>\n",
       "      <td>1062.0</td>\n",
       "      <td>478.0</td>\n",
       "      <td>2365.0</td>\n",
       "      <td>16.3</td>\n",
       "      <td>4249.0</td>\n",
       "      <td>60.000000</td>\n",
       "      <td>&lt;50</td>\n",
       "    </tr>\n",
       "    <tr>\n",
       "      <th>744</th>\n",
       "      <td>Western New England College</td>\n",
       "      <td>Yes</td>\n",
       "      <td>1650.0</td>\n",
       "      <td>1471.0</td>\n",
       "      <td>409.0</td>\n",
       "      <td>2919.0</td>\n",
       "      <td>15.4</td>\n",
       "      <td>8409.0</td>\n",
       "      <td>59.000000</td>\n",
       "      <td>&gt;50</td>\n",
       "    </tr>\n",
       "    <tr>\n",
       "      <th>759</th>\n",
       "      <td>Wilkes University</td>\n",
       "      <td>Yes</td>\n",
       "      <td>1631.0</td>\n",
       "      <td>1431.0</td>\n",
       "      <td>434.0</td>\n",
       "      <td>2406.0</td>\n",
       "      <td>13.3</td>\n",
       "      <td>8543.0</td>\n",
       "      <td>67.000000</td>\n",
       "      <td>&gt;50</td>\n",
       "    </tr>\n",
       "  </tbody>\n",
       "</table>\n",
       "<p>77 rows × 10 columns</p>\n",
       "</div>"
      ],
      "text/plain": [
       "                           Institution Private    Apps  Accept  Enroll  \\\n",
       "14                     Alverno College     Yes   494.0   313.0   157.0   \n",
       "17                 Anderson University     Yes  1216.0   908.0   423.0   \n",
       "26                  Assumption College     Yes  2135.0  1700.0   491.0   \n",
       "28                    Augsburg College     Yes   662.0   513.0   257.0   \n",
       "38                    Barry University     Yes   990.0   784.0   279.0   \n",
       "..                                 ...     ...     ...     ...     ...   \n",
       "732                 Webster University     Yes   665.0   462.0   226.0   \n",
       "735  Wentworth Institute of Technology     Yes  1480.0  1257.0   452.0   \n",
       "739         West Liberty State College      No  1164.0  1062.0   478.0   \n",
       "744        Western New England College     Yes  1650.0  1471.0   409.0   \n",
       "759                  Wilkes University     Yes  1631.0  1431.0   434.0   \n",
       "\n",
       "     Students  S.F.Ratio   Expend  Grad.Rate  PhD  \n",
       "14     2552.0       11.1   8127.0  55.000000  <50  \n",
       "17     2100.0       12.1   7994.0  65.449612  <50  \n",
       "26     2397.0       13.8   7100.0  88.000000  >50  \n",
       "28     2800.0       12.8   7836.0  58.000000  >50  \n",
       "38     4955.0       12.6   9084.0  72.000000  >50  \n",
       "..        ...        ...      ...        ...  ...  \n",
       "732    3289.0       20.6   6951.0  48.000000  >50  \n",
       "735    3533.0       15.4  17858.0  64.000000  <50  \n",
       "739    2365.0       16.3   4249.0  60.000000  <50  \n",
       "744    2919.0       15.4   8409.0  59.000000  >50  \n",
       "759    2406.0       13.3   8543.0  67.000000  >50  \n",
       "\n",
       "[77 rows x 10 columns]"
      ]
     },
     "execution_count": 33,
     "metadata": {},
     "output_type": "execute_result"
    }
   ],
   "source": [
    "#Subset with students greater than 2100 but enrollment < 500\n",
    "df_S2 = dataframe[(dataframe['Students']>=2100) & (dataframe['Enroll']<500)]\n",
    "df_S2"
   ]
  },
  {
   "cell_type": "markdown",
   "metadata": {},
   "source": [
    "7. Conduct a statistical test of the significance of the difference between the means of two subsets of the data and interpret the results."
   ]
  },
  {
   "cell_type": "code",
   "execution_count": 34,
   "metadata": {},
   "outputs": [
    {
     "data": {
      "text/plain": [
       "64.0280456292935"
      ]
     },
     "execution_count": 34,
     "metadata": {},
     "output_type": "execute_result"
    }
   ],
   "source": [
    "df_S1['Grad.Rate'].mean()"
   ]
  },
  {
   "cell_type": "code",
   "execution_count": 35,
   "metadata": {},
   "outputs": [
    {
     "data": {
      "text/plain": [
       "63.36947548575456"
      ]
     },
     "execution_count": 35,
     "metadata": {},
     "output_type": "execute_result"
    }
   ],
   "source": [
    "df_S2['Grad.Rate'].mean()"
   ]
  },
  {
   "cell_type": "markdown",
   "metadata": {},
   "source": [
    "Independent two samples t-test\n",
    "\n",
    "H0 : µ1 - µ2 = 0\n",
    "\n",
    "H1 : µ1 - µ2 != 0\n",
    "\n",
    "𝛼 = 0.05"
   ]
  },
  {
   "cell_type": "code",
   "execution_count": 36,
   "metadata": {},
   "outputs": [
    {
     "name": "stdout",
     "output_type": "stream",
     "text": [
      "t-value : 0.27196266362715515, p-value : 0.7859341024654471\n"
     ]
    }
   ],
   "source": [
    "t_val,p_val = stats.ttest_ind(df_S1['Grad.Rate'],df_S2['Grad.Rate'])\n",
    "\n",
    "print(f\"t-value : {t_val}, p-value : {p_val}\")"
   ]
  },
  {
   "cell_type": "markdown",
   "metadata": {},
   "source": [
    "Here the p-value is more that 0.05. Therefor, We fail to reject the Null Hypothesis"
   ]
  },
  {
   "cell_type": "markdown",
   "metadata": {},
   "source": [
    "8. Create one or more tables that group the data by a certain categorical variable and display summarized information for each group"
   ]
  },
  {
   "cell_type": "code",
   "execution_count": null,
   "metadata": {},
   "outputs": [],
   "source": [
    "private_median = dataframe.groupby(['Private']).median().round(2)\n",
    "private_median"
   ]
  },
  {
   "cell_type": "markdown",
   "metadata": {},
   "source": [
    "Here, We find that the median of all the categories with respect to Private and non Private Universities. We can see how students and faculty ratio in non Private univesities is more than the private universities. We can conclude that the expenditure is also low in non private universities. The graduations rate of the private universities is however better."
   ]
  },
  {
   "cell_type": "code",
   "execution_count": 43,
   "metadata": {},
   "outputs": [
    {
     "name": "stderr",
     "output_type": "stream",
     "text": [
      "C:\\Users\\Vijay\\AppData\\Local\\Temp\\ipykernel_7648\\3285640134.py:1: FutureWarning: The default value of numeric_only in DataFrameGroupBy.mean is deprecated. In a future version, numeric_only will default to False. Either specify numeric_only or select only columns which should be valid for the function.\n",
      "  private_mean = dataframe.groupby(['Private']).mean().round(2)\n"
     ]
    },
    {
     "data": {
      "text/html": [
       "<div>\n",
       "<style scoped>\n",
       "    .dataframe tbody tr th:only-of-type {\n",
       "        vertical-align: middle;\n",
       "    }\n",
       "\n",
       "    .dataframe tbody tr th {\n",
       "        vertical-align: top;\n",
       "    }\n",
       "\n",
       "    .dataframe thead th {\n",
       "        text-align: right;\n",
       "    }\n",
       "</style>\n",
       "<table border=\"1\" class=\"dataframe\">\n",
       "  <thead>\n",
       "    <tr style=\"text-align: right;\">\n",
       "      <th></th>\n",
       "      <th>Apps</th>\n",
       "      <th>Accept</th>\n",
       "      <th>Enroll</th>\n",
       "      <th>Students</th>\n",
       "      <th>S.F.Ratio</th>\n",
       "      <th>Expend</th>\n",
       "      <th>Grad.Rate</th>\n",
       "    </tr>\n",
       "    <tr>\n",
       "      <th>Private</th>\n",
       "      <th></th>\n",
       "      <th></th>\n",
       "      <th></th>\n",
       "      <th></th>\n",
       "      <th></th>\n",
       "      <th></th>\n",
       "      <th></th>\n",
       "    </tr>\n",
       "  </thead>\n",
       "  <tbody>\n",
       "    <tr>\n",
       "      <th>No</th>\n",
       "      <td>5742.28</td>\n",
       "      <td>3901.06</td>\n",
       "      <td>1644.75</td>\n",
       "      <td>10567.13</td>\n",
       "      <td>17.14</td>\n",
       "      <td>7464.30</td>\n",
       "      <td>56.02</td>\n",
       "    </tr>\n",
       "    <tr>\n",
       "      <th>Yes</th>\n",
       "      <td>1984.46</td>\n",
       "      <td>1310.74</td>\n",
       "      <td>460.07</td>\n",
       "      <td>2307.15</td>\n",
       "      <td>12.95</td>\n",
       "      <td>10454.92</td>\n",
       "      <td>68.97</td>\n",
       "    </tr>\n",
       "  </tbody>\n",
       "</table>\n",
       "</div>"
      ],
      "text/plain": [
       "            Apps   Accept   Enroll  Students  S.F.Ratio    Expend  Grad.Rate\n",
       "Private                                                                     \n",
       "No       5742.28  3901.06  1644.75  10567.13      17.14   7464.30      56.02\n",
       "Yes      1984.46  1310.74   460.07   2307.15      12.95  10454.92      68.97"
      ]
     },
     "execution_count": 43,
     "metadata": {},
     "output_type": "execute_result"
    }
   ],
   "source": [
    "private_mean = dataframe.groupby(['Private']).mean().round(2)\n",
    "private_mean"
   ]
  },
  {
   "cell_type": "markdown",
   "metadata": {},
   "source": [
    "9. Implement a linear regression model and interpret its output."
   ]
  },
  {
   "cell_type": "code",
   "execution_count": null,
   "metadata": {},
   "outputs": [],
   "source": [
    "pip install statsmodels"
   ]
  },
  {
   "cell_type": "code",
   "execution_count": 40,
   "metadata": {},
   "outputs": [],
   "source": [
    "import statsmodels.api as sm"
   ]
  },
  {
   "cell_type": "code",
   "execution_count": 41,
   "metadata": {},
   "outputs": [
    {
     "data": {
      "text/html": [
       "<table class=\"simpletable\">\n",
       "<caption>OLS Regression Results</caption>\n",
       "<tr>\n",
       "  <th>Dep. Variable:</th>        <td>Grad.Rate</td>    <th>  R-squared (uncentered):</th>      <td>   0.929</td>\n",
       "</tr>\n",
       "<tr>\n",
       "  <th>Model:</th>                   <td>OLS</td>       <th>  Adj. R-squared (uncentered):</th> <td>   0.929</td>\n",
       "</tr>\n",
       "<tr>\n",
       "  <th>Method:</th>             <td>Least Squares</td>  <th>  F-statistic:       </th>          <td>   1686.</td>\n",
       "</tr>\n",
       "<tr>\n",
       "  <th>Date:</th>             <td>Fri, 16 Dec 2022</td> <th>  Prob (F-statistic):</th>           <td>  0.00</td> \n",
       "</tr>\n",
       "<tr>\n",
       "  <th>Time:</th>                 <td>05:25:54</td>     <th>  Log-Likelihood:    </th>          <td> -3348.6</td>\n",
       "</tr>\n",
       "<tr>\n",
       "  <th>No. Observations:</th>      <td>   777</td>      <th>  AIC:               </th>          <td>   6709.</td>\n",
       "</tr>\n",
       "<tr>\n",
       "  <th>Df Residuals:</th>          <td>   771</td>      <th>  BIC:               </th>          <td>   6737.</td>\n",
       "</tr>\n",
       "<tr>\n",
       "  <th>Df Model:</th>              <td>     6</td>      <th>                     </th>              <td> </td>   \n",
       "</tr>\n",
       "<tr>\n",
       "  <th>Covariance Type:</th>      <td>nonrobust</td>    <th>                     </th>              <td> </td>   \n",
       "</tr>\n",
       "</table>\n",
       "<table class=\"simpletable\">\n",
       "<tr>\n",
       "      <td></td>         <th>coef</th>     <th>std err</th>      <th>t</th>      <th>P>|t|</th>  <th>[0.025</th>    <th>0.975]</th>  \n",
       "</tr>\n",
       "<tr>\n",
       "  <th>Students</th>  <td>   -0.0022</td> <td>    0.000</td> <td>   -6.899</td> <td> 0.000</td> <td>   -0.003</td> <td>   -0.002</td>\n",
       "</tr>\n",
       "<tr>\n",
       "  <th>Apps</th>      <td> 3.931e-05</td> <td>    0.001</td> <td>    0.073</td> <td> 0.942</td> <td>   -0.001</td> <td>    0.001</td>\n",
       "</tr>\n",
       "<tr>\n",
       "  <th>Accept</th>    <td>    0.0021</td> <td>    0.001</td> <td>    2.085</td> <td> 0.037</td> <td>    0.000</td> <td>    0.004</td>\n",
       "</tr>\n",
       "<tr>\n",
       "  <th>Enroll</th>    <td>    0.0047</td> <td>    0.003</td> <td>    1.856</td> <td> 0.064</td> <td>   -0.000</td> <td>    0.010</td>\n",
       "</tr>\n",
       "<tr>\n",
       "  <th>S.F.Ratio</th> <td>    2.7117</td> <td>    0.082</td> <td>   33.190</td> <td> 0.000</td> <td>    2.551</td> <td>    2.872</td>\n",
       "</tr>\n",
       "<tr>\n",
       "  <th>Expend</th>    <td>    0.0028</td> <td>    0.000</td> <td>   26.883</td> <td> 0.000</td> <td>    0.003</td> <td>    0.003</td>\n",
       "</tr>\n",
       "</table>\n",
       "<table class=\"simpletable\">\n",
       "<tr>\n",
       "  <th>Omnibus:</th>       <td>92.105</td> <th>  Durbin-Watson:     </th> <td>   1.854</td>\n",
       "</tr>\n",
       "<tr>\n",
       "  <th>Prob(Omnibus):</th> <td> 0.000</td> <th>  Jarque-Bera (JB):  </th> <td> 277.588</td>\n",
       "</tr>\n",
       "<tr>\n",
       "  <th>Skew:</th>          <td>-0.577</td> <th>  Prob(JB):          </th> <td>5.28e-61</td>\n",
       "</tr>\n",
       "<tr>\n",
       "  <th>Kurtosis:</th>      <td> 5.691</td> <th>  Cond. No.          </th> <td>1.62e+03</td>\n",
       "</tr>\n",
       "</table><br/><br/>Notes:<br/>[1] R² is computed without centering (uncentered) since the model does not contain a constant.<br/>[2] Standard Errors assume that the covariance matrix of the errors is correctly specified.<br/>[3] The condition number is large, 1.62e+03. This might indicate that there are<br/>strong multicollinearity or other numerical problems."
      ],
      "text/plain": [
       "<class 'statsmodels.iolib.summary.Summary'>\n",
       "\"\"\"\n",
       "                                 OLS Regression Results                                \n",
       "=======================================================================================\n",
       "Dep. Variable:              Grad.Rate   R-squared (uncentered):                   0.929\n",
       "Model:                            OLS   Adj. R-squared (uncentered):              0.929\n",
       "Method:                 Least Squares   F-statistic:                              1686.\n",
       "Date:                Fri, 16 Dec 2022   Prob (F-statistic):                        0.00\n",
       "Time:                        05:25:54   Log-Likelihood:                         -3348.6\n",
       "No. Observations:                 777   AIC:                                      6709.\n",
       "Df Residuals:                     771   BIC:                                      6737.\n",
       "Df Model:                           6                                                  \n",
       "Covariance Type:            nonrobust                                                  \n",
       "==============================================================================\n",
       "                 coef    std err          t      P>|t|      [0.025      0.975]\n",
       "------------------------------------------------------------------------------\n",
       "Students      -0.0022      0.000     -6.899      0.000      -0.003      -0.002\n",
       "Apps        3.931e-05      0.001      0.073      0.942      -0.001       0.001\n",
       "Accept         0.0021      0.001      2.085      0.037       0.000       0.004\n",
       "Enroll         0.0047      0.003      1.856      0.064      -0.000       0.010\n",
       "S.F.Ratio      2.7117      0.082     33.190      0.000       2.551       2.872\n",
       "Expend         0.0028      0.000     26.883      0.000       0.003       0.003\n",
       "==============================================================================\n",
       "Omnibus:                       92.105   Durbin-Watson:                   1.854\n",
       "Prob(Omnibus):                  0.000   Jarque-Bera (JB):              277.588\n",
       "Skew:                          -0.577   Prob(JB):                     5.28e-61\n",
       "Kurtosis:                       5.691   Cond. No.                     1.62e+03\n",
       "==============================================================================\n",
       "\n",
       "Notes:\n",
       "[1] R² is computed without centering (uncentered) since the model does not contain a constant.\n",
       "[2] Standard Errors assume that the covariance matrix of the errors is correctly specified.\n",
       "[3] The condition number is large, 1.62e+03. This might indicate that there are\n",
       "strong multicollinearity or other numerical problems.\n",
       "\"\"\""
      ]
     },
     "execution_count": 41,
     "metadata": {},
     "output_type": "execute_result"
    }
   ],
   "source": [
    "x = dataframe[['Students','Apps','Accept','Enroll','S.F.Ratio','Expend']]\n",
    "y = dataframe['Grad.Rate']\n",
    "model = sm.OLS(y,x).fit()\n",
    "model.summary()"
   ]
  },
  {
   "cell_type": "code",
   "execution_count": null,
   "metadata": {},
   "outputs": [],
   "source": []
  }
 ],
 "metadata": {
  "kernelspec": {
   "display_name": "Python 3.10.0 64-bit",
   "language": "python",
   "name": "python3"
  },
  "language_info": {
   "codemirror_mode": {
    "name": "ipython",
    "version": 3
   },
   "file_extension": ".py",
   "mimetype": "text/x-python",
   "name": "python",
   "nbconvert_exporter": "python",
   "pygments_lexer": "ipython3",
   "version": "3.10.0 (tags/v3.10.0:b494f59, Oct  4 2021, 19:00:18) [MSC v.1929 64 bit (AMD64)]"
  },
  "orig_nbformat": 4,
  "vscode": {
   "interpreter": {
    "hash": "07d5a32a57a9b95007a05b5fb942622f50d5b6ab19394e9088a86b13b6e5a95b"
   }
  }
 },
 "nbformat": 4,
 "nbformat_minor": 2
}
